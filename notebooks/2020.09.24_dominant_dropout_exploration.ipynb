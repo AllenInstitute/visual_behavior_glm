{
 "cells": [
  {
   "cell_type": "code",
   "execution_count": 35,
   "metadata": {},
   "outputs": [],
   "source": [
    "import visual_behavior_glm.GLM_analysis_tools as gat\n",
    "\n",
    "import pandas as pd\n",
    "pd.set_option('display.max_rows', 100)\n",
    "pd.set_option('display.max_columns', 100)"
   ]
  },
  {
   "cell_type": "markdown",
   "metadata": {},
   "source": [
    "## get cached dropout summary results from mongo database"
   ]
  },
  {
   "cell_type": "code",
   "execution_count": null,
   "metadata": {},
   "outputs": [],
   "source": [
    "rs = gat.retrieve_results(search_dict = {'glm_version': '6_L2_optimize_by_session'}, results_type='summary')"
   ]
  },
  {
   "cell_type": "code",
   "execution_count": 5,
   "metadata": {},
   "outputs": [
    {
     "data": {
      "text/plain": [
       "Index(['_id', 'dropout', 'absolute_change_from_full', 'variance_explained',\n",
       "       'variance_explained_full', 'fraction_change_from_full',\n",
       "       'cell_specimen_id', 'adj_fraction_change_from_full',\n",
       "       'adj_variance_explained', 'adj_variance_explained_full',\n",
       "       'ophys_experiment_id', 'ophys_session_id', 'behavior_session_id',\n",
       "       'glm_version', 'entry_time_utc', 'container_id', 'project_code',\n",
       "       'container_workflow_state', 'experiment_workflow_state', 'session_name',\n",
       "       'session_type', 'equipment_name', 'date_of_acquisition',\n",
       "       'isi_experiment_id', 'specimen_id', 'sex', 'age_in_days',\n",
       "       'full_genotype', 'reporter_line', 'driver_line', 'imaging_depth',\n",
       "       'targeted_structure', 'published_at', 'super_container_id', 'cre_line',\n",
       "       'session_tags', 'failure_tags', 'exposure_number',\n",
       "       'model_outputs_available', 'location', 'has_events', 'session_number'],\n",
       "      dtype='object')"
      ]
     },
     "execution_count": 5,
     "metadata": {},
     "output_type": "execute_result"
    }
   ],
   "source": [
    "rs.columns"
   ]
  },
  {
   "cell_type": "markdown",
   "metadata": {},
   "source": [
    "## identify all of the unique dropout names"
   ]
  },
  {
   "cell_type": "code",
   "execution_count": null,
   "metadata": {},
   "outputs": [],
   "source": [
    "dropouts = rs['dropout'].unique()"
   ]
  },
  {
   "cell_type": "markdown",
   "metadata": {},
   "source": [
    "## exclude 'single' and 'image' dropouts"
   ]
  },
  {
   "cell_type": "code",
   "execution_count": 43,
   "metadata": {},
   "outputs": [
    {
     "data": {
      "text/plain": [
       "['Full',\n",
       " 'all-images',\n",
       " 'beh_model',\n",
       " 'change',\n",
       " 'correct_rejects',\n",
       " 'false_alarms',\n",
       " 'hits',\n",
       " 'intercept',\n",
       " 'misses',\n",
       " 'model_bias',\n",
       " 'model_omissions1',\n",
       " 'model_task0',\n",
       " 'model_timing1D',\n",
       " 'omissions',\n",
       " 'post_lick_bouts',\n",
       " 'post_licks',\n",
       " 'pre_lick_bouts',\n",
       " 'pre_licks',\n",
       " 'pupil',\n",
       " 'rewards',\n",
       " 'running',\n",
       " 'time',\n",
       " 'visual',\n",
       " 'face_motion_energy']"
      ]
     },
     "execution_count": 43,
     "metadata": {},
     "output_type": "execute_result"
    }
   ],
   "source": [
    "dropouts_to_use = [d for d in dropouts if not d.startswith('single') and not d.startswith('image')]\n",
    "dropouts_to_use"
   ]
  },
  {
   "cell_type": "markdown",
   "metadata": {},
   "source": [
    "## build a pivoted dataframe with each cell/session as a single row and 'adj_fraction_change_from_full' as the value to keep"
   ]
  },
  {
   "cell_type": "code",
   "execution_count": 44,
   "metadata": {},
   "outputs": [],
   "source": [
    "rs_pivoted = gat.build_pivoted_results_summary(results_summary=rs, cutoff=0.01, value_to_use='adj_fraction_change_from_full')"
   ]
  },
  {
   "cell_type": "code",
   "execution_count": 45,
   "metadata": {},
   "outputs": [
    {
     "data": {
      "text/plain": [
       "46506"
      ]
     },
     "execution_count": 45,
     "metadata": {},
     "output_type": "execute_result"
    }
   ],
   "source": [
    "len(rs_pivoted)"
   ]
  },
  {
   "cell_type": "markdown",
   "metadata": {},
   "source": [
    "## get the dominant dropout for every session/cell:"
   ]
  },
  {
   "cell_type": "code",
   "execution_count": 46,
   "metadata": {},
   "outputs": [
    {
     "name": "stdout",
     "output_type": "stream",
     "text": [
      "idx: 46505   \r"
     ]
    }
   ],
   "source": [
    "for idx,row in rs_pivoted.iterrows():\n",
    "    rs_pivoted.at[idx,'dominant_dropout'] = rs_pivoted[dropouts_to_use].iloc[idx].abs().idxmax()\n",
    "    print('idx: {}   '.format(idx), end='\\r')"
   ]
  },
  {
   "cell_type": "code",
   "execution_count": 47,
   "metadata": {},
   "outputs": [
    {
     "data": {
      "text/plain": [
       "Index(['identifier', 'Full', 'all-images', 'beh_model', 'change',\n",
       "       'correct_rejects', 'face_motion_energy', 'false_alarms', 'hits',\n",
       "       'image0', 'image1', 'image2', 'image3', 'image4', 'image5', 'image6',\n",
       "       'image7', 'image_expectation', 'intercept', 'misses', 'model_bias',\n",
       "       'model_omissions1', 'model_task0', 'model_timing1D', 'omissions',\n",
       "       'post_lick_bouts', 'post_licks', 'pre_lick_bouts', 'pre_licks', 'pupil',\n",
       "       'rewards', 'running', 'single-all-images', 'single-beh_model',\n",
       "       'single-change', 'single-correct_rejects', 'single-face_motion_energy',\n",
       "       'single-false_alarms', 'single-hits', 'single-image0', 'single-image1',\n",
       "       'single-image2', 'single-image3', 'single-image4', 'single-image5',\n",
       "       'single-image6', 'single-image7', 'single-image_expectation',\n",
       "       'single-misses', 'single-model_bias', 'single-model_omissions1',\n",
       "       'single-model_task0', 'single-model_timing1D', 'single-omissions',\n",
       "       'single-post_lick_bouts', 'single-post_licks', 'single-pre_lick_bouts',\n",
       "       'single-pre_licks', 'single-pupil', 'single-rewards', 'single-running',\n",
       "       'single-time', 'single-visual', 'time', 'visual',\n",
       "       'variance_explained_full', 'cell_specimen_id', 'ophys_experiment_id',\n",
       "       'ophys_session_id', 'behavior_session_id', 'glm_version',\n",
       "       'container_id', 'project_code', 'container_workflow_state',\n",
       "       'experiment_workflow_state', 'session_name', 'session_type',\n",
       "       'equipment_name', 'date_of_acquisition', 'isi_experiment_id',\n",
       "       'specimen_id', 'sex', 'age_in_days', 'full_genotype', 'reporter_line',\n",
       "       'driver_line', 'imaging_depth', 'targeted_structure', 'published_at',\n",
       "       'super_container_id', 'cre_line', 'session_tags', 'failure_tags',\n",
       "       'exposure_number', 'model_outputs_available', 'location', 'has_events',\n",
       "       'session_number', 'dominant_dropout'],\n",
       "      dtype='object')"
      ]
     },
     "execution_count": 47,
     "metadata": {},
     "output_type": "execute_result"
    }
   ],
   "source": [
    "rs_pivoted.columns"
   ]
  },
  {
   "cell_type": "markdown",
   "metadata": {},
   "source": [
    "## look at value counts of dominant dropouts"
   ]
  },
  {
   "cell_type": "code",
   "execution_count": 48,
   "metadata": {},
   "outputs": [
    {
     "data": {
      "text/plain": [
       "cre_line           dominant_dropout  \n",
       "Slc17a7-IRES2-Cre  face_motion_energy    1318\n",
       "Sst-IRES-Cre       face_motion_energy      62\n",
       "Vip-IRES-Cre       face_motion_energy     256\n",
       "Name: dominant_dropout, dtype: int64"
      ]
     },
     "execution_count": 48,
     "metadata": {},
     "output_type": "execute_result"
    }
   ],
   "source": [
    "rs_pivoted.query('dominant_dropout == \"face_motion_energy\"').groupby(['cre_line'])['dominant_dropout'].value_counts()"
   ]
  },
  {
   "cell_type": "code",
   "execution_count": 55,
   "metadata": {},
   "outputs": [
    {
     "data": {
      "text/plain": [
       "cre_line           dominant_dropout  \n",
       "Slc17a7-IRES2-Cre  visual                0.671630\n",
       "                   omissions             0.087773\n",
       "                   all-images            0.077623\n",
       "                   running               0.053200\n",
       "                   face_motion_energy    0.033955\n",
       "                   pupil                 0.033414\n",
       "                   correct_rejects       0.011155\n",
       "                   post_lick_bouts       0.004612\n",
       "                   pre_lick_bouts        0.004560\n",
       "                   false_alarms          0.003839\n",
       "                   post_licks            0.003504\n",
       "                   beh_model             0.002885\n",
       "                   rewards               0.002241\n",
       "                   hits                  0.001675\n",
       "                   misses                0.001675\n",
       "                   time                  0.001649\n",
       "                   change                0.001288\n",
       "                   model_omissions1      0.000876\n",
       "                   model_task0           0.000618\n",
       "                   model_timing1D        0.000618\n",
       "                   model_bias            0.000489\n",
       "                   intercept             0.000438\n",
       "                   pre_licks             0.000283\n",
       "Sst-IRES-Cre       visual                0.803664\n",
       "                   all-images            0.054958\n",
       "                   running               0.034249\n",
       "                   omissions             0.031860\n",
       "                   face_motion_energy    0.024691\n",
       "                   pupil                 0.018718\n",
       "                   correct_rejects       0.013540\n",
       "                   false_alarms          0.004779\n",
       "                   post_licks            0.004779\n",
       "                   post_lick_bouts       0.002788\n",
       "                   time                  0.001593\n",
       "                   hits                  0.001195\n",
       "                   misses                0.001195\n",
       "                   rewards               0.001195\n",
       "                   beh_model             0.000398\n",
       "                   model_bias            0.000398\n",
       "Vip-IRES-Cre       visual                0.435798\n",
       "                   omissions             0.196177\n",
       "                   running               0.109674\n",
       "                   pupil                 0.082448\n",
       "                   face_motion_energy    0.049430\n",
       "                   all-images            0.046920\n",
       "                   post_licks            0.024329\n",
       "                   correct_rejects       0.015447\n",
       "                   post_lick_bouts       0.010813\n",
       "                   time                  0.006951\n",
       "                   misses                0.005986\n",
       "                   false_alarms          0.003089\n",
       "                   beh_model             0.002703\n",
       "                   rewards               0.002317\n",
       "                   hits                  0.001738\n",
       "                   pre_licks             0.001545\n",
       "                   change                0.001352\n",
       "                   pre_lick_bouts        0.001352\n",
       "                   intercept             0.000579\n",
       "                   model_bias            0.000386\n",
       "                   model_omissions1      0.000386\n",
       "                   model_timing1D        0.000386\n",
       "                   model_task0           0.000193\n",
       "Name: dominant_dropout, dtype: float64"
      ]
     },
     "execution_count": 55,
     "metadata": {},
     "output_type": "execute_result"
    }
   ],
   "source": [
    "rs_pivoted.groupby(['cre_line'])['dominant_dropout'].value_counts(normalize=True)"
   ]
  },
  {
   "cell_type": "code",
   "execution_count": 54,
   "metadata": {},
   "outputs": [],
   "source": [
    "filepath = '/allen/programs/braintv/workgroups/nc-ophys/visual_behavior/2020.09.24_dropout_summary_v6_opt_by_session.csv'\n",
    "rs_pivoted.to_csv(filepath, index=False)"
   ]
  },
  {
   "cell_type": "code",
   "execution_count": null,
   "metadata": {},
   "outputs": [],
   "source": []
  }
 ],
 "metadata": {
  "kernelspec": {
   "display_name": "visual_behavior",
   "language": "python",
   "name": "visual_behavior"
  },
  "language_info": {
   "codemirror_mode": {
    "name": "ipython",
    "version": 3
   },
   "file_extension": ".py",
   "mimetype": "text/x-python",
   "name": "python",
   "nbconvert_exporter": "python",
   "pygments_lexer": "ipython3",
   "version": "3.8.3"
  }
 },
 "nbformat": 4,
 "nbformat_minor": 4
}
