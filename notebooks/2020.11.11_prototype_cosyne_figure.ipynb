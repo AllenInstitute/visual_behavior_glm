{
 "cells": [
  {
   "cell_type": "code",
   "execution_count": 22,
   "metadata": {},
   "outputs": [],
   "source": [
    "import visual_behavior_glm.GLM_visualization_tools as gvt\n",
    "import visual_behavior_glm.GLM_analysis_tools as gat\n",
    "from visual_behavior_glm.glm import GLM\n",
    "import seaborn as sns\n",
    "import numpy as np\n",
    "import pandas as pd\n",
    "\n",
    "import visual_behavior.plotting as vbp\n",
    "import matplotlib.pyplot as plt"
   ]
  },
  {
   "cell_type": "code",
   "execution_count": 2,
   "metadata": {},
   "outputs": [
    {
     "data": {
      "text/html": [
       "<style>.container { width:100% !important; }</style>"
      ],
      "text/plain": [
       "<IPython.core.display.HTML object>"
      ]
     },
     "metadata": {},
     "output_type": "display_data"
    }
   ],
   "source": [
    "from IPython.core.display import display, HTML\n",
    "display(HTML(\"<style>.container { width:100% !important; }</style>\"))\n",
    "        \n",
    "%matplotlib inline"
   ]
  },
  {
   "cell_type": "code",
   "execution_count": 27,
   "metadata": {},
   "outputs": [
    {
     "name": "stdout",
     "output_type": "stream",
     "text": [
      "importing GLM_fit_tools from /allen/programs/braintv/workgroups/nc-ophys/visual_behavior/ophys_glm/v_9a_L2_optimize_by_session/frozen_model_files/GLM_fit_tools.py\n",
      "loading previous fit...\n",
      "extracting cached data from 907694954_453911_190716_VISp_0_Slc17a7-IRES2-Cre_MESO.1_behavior_79\n"
     ]
    },
    {
     "name": "stderr",
     "output_type": "stream",
     "text": [
      "/home/dougo/Code/AllenSDK/allensdk/brain_observatory/sync_dataset.py:109: UserWarning: The loaded sync file contains the following deprecated line label keys: {'cam1_exposure', 'cam2_exposure'}. Consider updating the sync file line labels.\n",
      "  self._check_line_labels()\n",
      "/home/dougo/Code/AllenSDK/allensdk/brain_observatory/sync_dataset.py:109: UserWarning: The loaded sync file contains the following deprecated line label keys: {'cam1_exposure', 'cam2_exposure'}. Consider updating the sync file line labels.\n",
      "  self._check_line_labels()\n",
      "WARNING:root:Could not find valid lines for the following data sources\n",
      "WARNING:root:acquiring (valid line label(s) = ['2p_acquiring']\n"
     ]
    },
    {
     "name": "stdout",
     "output_type": "stream",
     "text": [
      "resampling mesoscope 2P frame times\n"
     ]
    },
    {
     "name": "stderr",
     "output_type": "stream",
     "text": [
      "WARNING:BehaviorProjectLimsApi:Getting all ophys sessions. This might take a while.\n",
      "/home/dougo/Code/AllenSDK/allensdk/brain_observatory/behavior/running_processing.py:367: UserWarning: Time array is 1 value shorter than encoder array. Last encoder value removed\n",
      "\n",
      "  \"value removed\\n\", UserWarning, stacklevel=1)\n",
      "/home/dougo/Code/AllenSDK/allensdk/brain_observatory/behavior/running_processing.py:15: RuntimeWarning: Mean of empty slice\n",
      "  dxdt = np.nanmean(dxdt, axis=0)\n"
     ]
    },
    {
     "name": "stdout",
     "output_type": "stream",
     "text": [
      "    Adding kernel: intercept\n",
      "    Adding kernel: time\n",
      "    Adding kernel: licks\n",
      "    Adding kernel: hits\n",
      "    Adding kernel: misses\n",
      "    Adding kernel: passive_change\n",
      "Error encountered while adding kernel for passive_change. Attemping to continue without this kernel. \n",
      "Passive Change kernel cant be added to active sessions\n",
      "    Adding kernel: false_alarms\n",
      "Error encountered while adding kernel for false_alarms. Attemping to continue without this kernel. \n",
      "Less than minimum number of events: 4 false_alarm\n",
      "    Adding kernel: correct_rejects\n",
      "    Adding kernel: omissions\n",
      "    Adding kernel: image_expectation\n",
      "    Adding kernel: running\n",
      "                 : Normalized by max value: 100\n",
      "    Adding kernel: pupil\n"
     ]
    },
    {
     "name": "stderr",
     "output_type": "stream",
     "text": [
      "/home/dougo/Code/AllenSDK/allensdk/brain_observatory/sync_dataset.py:109: UserWarning: The loaded sync file contains the following deprecated line label keys: {'cam1_exposure', 'cam2_exposure'}. Consider updating the sync file line labels.\n",
      "  self._check_line_labels()\n"
     ]
    },
    {
     "name": "stdout",
     "output_type": "stream",
     "text": [
      "                 : Mean Centering\n",
      "                 : Standardized to unit variance\n",
      "    Adding kernel: face_motion_PC_0\n"
     ]
    },
    {
     "name": "stderr",
     "output_type": "stream",
     "text": [
      "WARNING:BehaviorProjectLimsApi:Getting all ophys sessions. This might take a while.\n"
     ]
    },
    {
     "name": "stdout",
     "output_type": "stream",
     "text": [
      "resampling mesoscope 2P frame times\n",
      "                 : Mean Centering\n",
      "                 : Standardized to unit variance\n",
      "    Adding kernel: face_motion_PC_1\n"
     ]
    },
    {
     "name": "stderr",
     "output_type": "stream",
     "text": [
      "WARNING:BehaviorProjectLimsApi:Getting all ophys sessions. This might take a while.\n"
     ]
    },
    {
     "name": "stdout",
     "output_type": "stream",
     "text": [
      "resampling mesoscope 2P frame times\n",
      "                 : Mean Centering\n",
      "                 : Standardized to unit variance\n",
      "    Adding kernel: face_motion_PC_2\n"
     ]
    },
    {
     "name": "stderr",
     "output_type": "stream",
     "text": [
      "WARNING:BehaviorProjectLimsApi:Getting all ophys sessions. This might take a while.\n"
     ]
    },
    {
     "name": "stdout",
     "output_type": "stream",
     "text": [
      "resampling mesoscope 2P frame times\n",
      "                 : Mean Centering\n",
      "                 : Standardized to unit variance\n",
      "    Adding kernel: face_motion_PC_3\n"
     ]
    },
    {
     "name": "stderr",
     "output_type": "stream",
     "text": [
      "WARNING:BehaviorProjectLimsApi:Getting all ophys sessions. This might take a while.\n"
     ]
    },
    {
     "name": "stdout",
     "output_type": "stream",
     "text": [
      "resampling mesoscope 2P frame times\n",
      "                 : Mean Centering\n",
      "                 : Standardized to unit variance\n",
      "    Adding kernel: face_motion_PC_4\n"
     ]
    },
    {
     "name": "stderr",
     "output_type": "stream",
     "text": [
      "WARNING:BehaviorProjectLimsApi:Getting all ophys sessions. This might take a while.\n"
     ]
    },
    {
     "name": "stdout",
     "output_type": "stream",
     "text": [
      "resampling mesoscope 2P frame times\n",
      "                 : Mean Centering\n",
      "                 : Standardized to unit variance\n",
      "    Adding kernel: image0\n",
      "    Adding kernel: image1\n",
      "    Adding kernel: image2\n",
      "    Adding kernel: image3\n",
      "    Adding kernel: image4\n",
      "    Adding kernel: image5\n",
      "    Adding kernel: image6\n",
      "    Adding kernel: image7\n",
      "    Adding kernel: model_bias\n",
      "                 : Mean Centering\n",
      "                 : Standardized to unit variance\n",
      "    Adding kernel: model_task0\n",
      "                 : Mean Centering\n",
      "                 : Standardized to unit variance\n",
      "    Adding kernel: model_omissions1\n",
      "                 : Mean Centering\n",
      "                 : Standardized to unit variance\n",
      "    Adding kernel: model_timing1D\n",
      "                 : Mean Centering\n",
      "                 : Standardized to unit variance\n",
      "The following kernels failed to be added to the model: \n",
      "{'false_alarms', 'passive_change'}\n",
      "The following dropouts failed to be added to the model: \n",
      "{'single-passive_change', 'single-false_alarms'}\n",
      "done loading previous fit\n",
      "done fitting model, collecting results\n",
      "done collecting results\n",
      "done building GLM object\n"
     ]
    }
   ],
   "source": [
    "ophys_experiment_id = 907694954\n",
    "glm_version='9a_L2_optimize_by_session'\n",
    "glm = GLM(ophys_experiment_id, version=glm_version, log_results=False, log_weights=False,use_previous_fit=True)"
   ]
  },
  {
   "cell_type": "code",
   "execution_count": null,
   "metadata": {},
   "outputs": [],
   "source": [
    "cell_specimen_id = 1028768972\n",
    "time_to_plot = 3291\n",
    "t_range = 5\n",
    "t_span = (time_to_plot - t_range, time_to_plot + t_range)\n",
    "\n",
    "fig, ax = gvt.make_cosyne_summary_figure(glm, cell_specimen_id, t_span)"
   ]
  },
  {
   "cell_type": "code",
   "execution_count": 88,
   "metadata": {},
   "outputs": [],
   "source": [
    "kernel_df = gat.build_kernel_df(glm, cell_specimen_id)"
   ]
  },
  {
   "cell_type": "code",
   "execution_count": 93,
   "metadata": {},
   "outputs": [
    {
     "data": {
      "text/plain": [
       "1.2251013191640125"
      ]
     },
     "execution_count": 93,
     "metadata": {},
     "output_type": "execute_result"
    }
   ],
   "source": [
    "t0, t1 = t_span\n",
    "kernel_df.query('timestamps >= @t0 and timestamps <= @t1')['kernel_outputs'].max()"
   ]
  },
  {
   "cell_type": "code",
   "execution_count": 90,
   "metadata": {},
   "outputs": [],
   "source": [
    "t_range = 10\n",
    "t_span = (time_to_plot - t_range, time_to_plot + t_range)"
   ]
  },
  {
   "cell_type": "code",
   "execution_count": null,
   "metadata": {},
   "outputs": [],
   "source": []
  }
 ],
 "metadata": {
  "kernelspec": {
   "display_name": "visual_behavior",
   "language": "python",
   "name": "visual_behavior"
  },
  "language_info": {
   "codemirror_mode": {
    "name": "ipython",
    "version": 3
   },
   "file_extension": ".py",
   "mimetype": "text/x-python",
   "name": "python",
   "nbconvert_exporter": "python",
   "pygments_lexer": "ipython3",
   "version": "3.7.9"
  }
 },
 "nbformat": 4,
 "nbformat_minor": 4
}
