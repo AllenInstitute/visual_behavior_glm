{
 "cells": [
  {
   "cell_type": "code",
   "execution_count": 1,
   "metadata": {},
   "outputs": [],
   "source": [
    "import visual_behavior_glm.GLM_analysis_tools as gat\n",
    "import pandas as pd\n",
    "from multiprocessing import Pool\n",
    "import numpy as np\n",
    "from visual_behavior.data_access import loading\n",
    "import os\n",
    "pd.set_option('display.max_columns', 500)"
   ]
  },
  {
   "cell_type": "code",
   "execution_count": 2,
   "metadata": {},
   "outputs": [
    {
     "data": {
      "text/html": [
       "<style>.container { width:100% !important; }</style>"
      ],
      "text/plain": [
       "<IPython.core.display.HTML object>"
      ]
     },
     "metadata": {},
     "output_type": "display_data"
    }
   ],
   "source": [
    "from IPython.core.display import display, HTML\n",
    "display(HTML(\"<style>.container { width:100% !important; }</style>\"))"
   ]
  },
  {
   "cell_type": "code",
   "execution_count": 3,
   "metadata": {},
   "outputs": [],
   "source": [
    "versions = [\n",
    "    '16_events_engaged_L2_optimize_by_session',\n",
    "    '16_events_disengaged_L2_optimize_by_session',\n",
    "    '16_events_all_L2_optimize_by_session'\n",
    "]"
   ]
  },
  {
   "cell_type": "code",
   "execution_count": 4,
   "metadata": {},
   "outputs": [
    {
     "name": "stdout",
     "output_type": "stream",
     "text": [
      "loading results for version 16_events_engaged_L2_optimize_by_session\n",
      "loading results for version 16_events_disengaged_L2_optimize_by_session\n",
      "loading results for version 16_events_all_L2_optimize_by_session\n"
     ]
    }
   ],
   "source": [
    "results = []\n",
    "for version in versions:\n",
    "    print('loading results for version {}'.format(version))\n",
    "    results.append(gat.retrieve_results({'glm_version': version}))\n",
    "results = pd.concat(results, sort=True)"
   ]
  },
  {
   "cell_type": "code",
   "execution_count": 5,
   "metadata": {},
   "outputs": [],
   "source": [
    "def get_fraction_engaged(bsid):\n",
    "    try:\n",
    "        model_outputs = loading.load_behavior_model_outputs(bsid)\n",
    "        fraction_engaged = model_outputs['engaged'].mean()\n",
    "    except:\n",
    "        fraction_engaged = np.nan\n",
    "    return {'behavior_session_id': bsid, 'fraction_engaged': fraction_engaged}"
   ]
  },
  {
   "cell_type": "code",
   "execution_count": 6,
   "metadata": {},
   "outputs": [
    {
     "name": "stderr",
     "output_type": "stream",
     "text": [
      "/allen/programs/braintv/workgroups/nc-ophys/Doug/code/visual_behavior_analysis/visual_behavior/data_access/loading.py:808: UserWarning: no model outputs saved for behavior_session_id: 853266283\n",
      "  warnings.warn('no model outputs saved for behavior_session_id: {}'.format(behavior_session_id))\n",
      "/allen/programs/braintv/workgroups/nc-ophys/Doug/code/visual_behavior_analysis/visual_behavior/data_access/loading.py:808: UserWarning: no model outputs saved for behavior_session_id: 1038793248\n",
      "  warnings.warn('no model outputs saved for behavior_session_id: {}'.format(behavior_session_id))\n",
      "/allen/programs/braintv/workgroups/nc-ophys/Doug/code/visual_behavior_analysis/visual_behavior/data_access/loading.py:808: UserWarning: no model outputs saved for behavior_session_id: 949348713\n",
      "  warnings.warn('no model outputs saved for behavior_session_id: {}'.format(behavior_session_id))\n",
      "/allen/programs/braintv/workgroups/nc-ophys/Doug/code/visual_behavior_analysis/visual_behavior/data_access/loading.py:808: UserWarning: no model outputs saved for behavior_session_id: 837108110\n",
      "  warnings.warn('no model outputs saved for behavior_session_id: {}'.format(behavior_session_id))\n"
     ]
    },
    {
     "name": "stdout",
     "output_type": "stream",
     "text": [
      "CPU times: user 56.7 ms, sys: 205 ms, total: 262 ms\n",
      "Wall time: 373 ms\n"
     ]
    }
   ],
   "source": [
    "%%time\n",
    "with Pool(32) as pool:\n",
    "    engagement_df = pd.DataFrame(pool.map(get_fraction_engaged, results['behavior_session_id'].drop_duplicates()))"
   ]
  },
  {
   "cell_type": "code",
   "execution_count": 15,
   "metadata": {},
   "outputs": [
    {
     "data": {
      "text/html": [
       "<div>\n",
       "<style scoped>\n",
       "    .dataframe tbody tr th:only-of-type {\n",
       "        vertical-align: middle;\n",
       "    }\n",
       "\n",
       "    .dataframe tbody tr th {\n",
       "        vertical-align: top;\n",
       "    }\n",
       "\n",
       "    .dataframe thead th {\n",
       "        text-align: right;\n",
       "    }\n",
       "</style>\n",
       "<table border=\"1\" class=\"dataframe\">\n",
       "  <thead>\n",
       "    <tr style=\"text-align: right;\">\n",
       "      <th></th>\n",
       "      <th></th>\n",
       "      <th></th>\n",
       "      <th></th>\n",
       "      <th></th>\n",
       "      <th>Full__avg_cv_var_train</th>\n",
       "    </tr>\n",
       "    <tr>\n",
       "      <th>ophys_experiment_id</th>\n",
       "      <th>behavior_session_id</th>\n",
       "      <th>session_type</th>\n",
       "      <th>fraction_engaged</th>\n",
       "      <th>glm_version</th>\n",
       "      <th></th>\n",
       "    </tr>\n",
       "  </thead>\n",
       "  <tbody>\n",
       "    <tr>\n",
       "      <th rowspan=\"3\" valign=\"top\">833631914</th>\n",
       "      <th rowspan=\"3\" valign=\"top\">832981154</th>\n",
       "      <th rowspan=\"3\" valign=\"top\">OPHYS_6_images_B</th>\n",
       "      <th rowspan=\"3\" valign=\"top\">0.000000</th>\n",
       "      <th>16_events_all_L2_optimize_by_session</th>\n",
       "      <td>0.016006</td>\n",
       "    </tr>\n",
       "    <tr>\n",
       "      <th>16_events_disengaged_L2_optimize_by_session</th>\n",
       "      <td>0.016403</td>\n",
       "    </tr>\n",
       "    <tr>\n",
       "      <th>16_events_engaged_L2_optimize_by_session</th>\n",
       "      <td>NaN</td>\n",
       "    </tr>\n",
       "    <tr>\n",
       "      <th rowspan=\"3\" valign=\"top\">836258957</th>\n",
       "      <th rowspan=\"3\" valign=\"top\">835820832</th>\n",
       "      <th rowspan=\"3\" valign=\"top\">OPHYS_3_images_A</th>\n",
       "      <th rowspan=\"3\" valign=\"top\">0.022056</th>\n",
       "      <th>16_events_all_L2_optimize_by_session</th>\n",
       "      <td>0.012166</td>\n",
       "    </tr>\n",
       "    <tr>\n",
       "      <th>16_events_disengaged_L2_optimize_by_session</th>\n",
       "      <td>0.012079</td>\n",
       "    </tr>\n",
       "    <tr>\n",
       "      <th>16_events_engaged_L2_optimize_by_session</th>\n",
       "      <td>NaN</td>\n",
       "    </tr>\n",
       "    <tr>\n",
       "      <th rowspan=\"3\" valign=\"top\">993369861</th>\n",
       "      <th rowspan=\"3\" valign=\"top\">993267224</th>\n",
       "      <th rowspan=\"3\" valign=\"top\">OPHYS_3_images_A</th>\n",
       "      <th rowspan=\"3\" valign=\"top\">0.441226</th>\n",
       "      <th>16_events_all_L2_optimize_by_session</th>\n",
       "      <td>0.052366</td>\n",
       "    </tr>\n",
       "    <tr>\n",
       "      <th>16_events_disengaged_L2_optimize_by_session</th>\n",
       "      <td>0.057196</td>\n",
       "    </tr>\n",
       "    <tr>\n",
       "      <th>16_events_engaged_L2_optimize_by_session</th>\n",
       "      <td>0.055538</td>\n",
       "    </tr>\n",
       "    <tr>\n",
       "      <th rowspan=\"3\" valign=\"top\">957759564</th>\n",
       "      <th rowspan=\"3\" valign=\"top\">957032492</th>\n",
       "      <th rowspan=\"3\" valign=\"top\">OPHYS_4_images_B</th>\n",
       "      <th rowspan=\"3\" valign=\"top\">0.586617</th>\n",
       "      <th>16_events_all_L2_optimize_by_session</th>\n",
       "      <td>0.047866</td>\n",
       "    </tr>\n",
       "    <tr>\n",
       "      <th>16_events_disengaged_L2_optimize_by_session</th>\n",
       "      <td>0.066072</td>\n",
       "    </tr>\n",
       "    <tr>\n",
       "      <th>16_events_engaged_L2_optimize_by_session</th>\n",
       "      <td>0.054122</td>\n",
       "    </tr>\n",
       "    <tr>\n",
       "      <th rowspan=\"3\" valign=\"top\">986402309</th>\n",
       "      <th rowspan=\"3\" valign=\"top\">985792625</th>\n",
       "      <th rowspan=\"3\" valign=\"top\">OPHYS_3_images_B</th>\n",
       "      <th rowspan=\"3\" valign=\"top\">0.971708</th>\n",
       "      <th>16_events_all_L2_optimize_by_session</th>\n",
       "      <td>0.124702</td>\n",
       "    </tr>\n",
       "    <tr>\n",
       "      <th>16_events_disengaged_L2_optimize_by_session</th>\n",
       "      <td>NaN</td>\n",
       "    </tr>\n",
       "    <tr>\n",
       "      <th>16_events_engaged_L2_optimize_by_session</th>\n",
       "      <td>0.131040</td>\n",
       "    </tr>\n",
       "    <tr>\n",
       "      <th rowspan=\"3\" valign=\"top\">877057344</th>\n",
       "      <th rowspan=\"3\" valign=\"top\">876574139</th>\n",
       "      <th rowspan=\"3\" valign=\"top\">OPHYS_4_images_B</th>\n",
       "      <th rowspan=\"3\" valign=\"top\">0.983757</th>\n",
       "      <th>16_events_all_L2_optimize_by_session</th>\n",
       "      <td>0.030948</td>\n",
       "    </tr>\n",
       "    <tr>\n",
       "      <th>16_events_disengaged_L2_optimize_by_session</th>\n",
       "      <td>NaN</td>\n",
       "    </tr>\n",
       "    <tr>\n",
       "      <th>16_events_engaged_L2_optimize_by_session</th>\n",
       "      <td>0.029842</td>\n",
       "    </tr>\n",
       "    <tr>\n",
       "      <th rowspan=\"3\" valign=\"top\">837296345</th>\n",
       "      <th rowspan=\"3\" valign=\"top\">837108110</th>\n",
       "      <th rowspan=\"3\" valign=\"top\">OPHYS_2_images_A_passive</th>\n",
       "      <th rowspan=\"3\" valign=\"top\">NaN</th>\n",
       "      <th>16_events_all_L2_optimize_by_session</th>\n",
       "      <td>0.052363</td>\n",
       "    </tr>\n",
       "    <tr>\n",
       "      <th>16_events_disengaged_L2_optimize_by_session</th>\n",
       "      <td>0.052481</td>\n",
       "    </tr>\n",
       "    <tr>\n",
       "      <th>16_events_engaged_L2_optimize_by_session</th>\n",
       "      <td>NaN</td>\n",
       "    </tr>\n",
       "    <tr>\n",
       "      <th rowspan=\"3\" valign=\"top\">853362773</th>\n",
       "      <th rowspan=\"3\" valign=\"top\">853266283</th>\n",
       "      <th rowspan=\"3\" valign=\"top\">OPHYS_5_images_B_passive</th>\n",
       "      <th rowspan=\"3\" valign=\"top\">NaN</th>\n",
       "      <th>16_events_all_L2_optimize_by_session</th>\n",
       "      <td>0.046634</td>\n",
       "    </tr>\n",
       "    <tr>\n",
       "      <th>16_events_disengaged_L2_optimize_by_session</th>\n",
       "      <td>0.046160</td>\n",
       "    </tr>\n",
       "    <tr>\n",
       "      <th>16_events_engaged_L2_optimize_by_session</th>\n",
       "      <td>NaN</td>\n",
       "    </tr>\n",
       "    <tr>\n",
       "      <th rowspan=\"3\" valign=\"top\">949723715</th>\n",
       "      <th rowspan=\"3\" valign=\"top\">949348713</th>\n",
       "      <th rowspan=\"3\" valign=\"top\">OPHYS_5_images_B_passive</th>\n",
       "      <th rowspan=\"3\" valign=\"top\">NaN</th>\n",
       "      <th>16_events_all_L2_optimize_by_session</th>\n",
       "      <td>0.053504</td>\n",
       "    </tr>\n",
       "    <tr>\n",
       "      <th>16_events_disengaged_L2_optimize_by_session</th>\n",
       "      <td>0.053529</td>\n",
       "    </tr>\n",
       "    <tr>\n",
       "      <th>16_events_engaged_L2_optimize_by_session</th>\n",
       "      <td>NaN</td>\n",
       "    </tr>\n",
       "    <tr>\n",
       "      <th rowspan=\"3\" valign=\"top\">1038848242</th>\n",
       "      <th rowspan=\"3\" valign=\"top\">1038793248</th>\n",
       "      <th rowspan=\"3\" valign=\"top\">OPHYS_2_images_B_passive</th>\n",
       "      <th rowspan=\"3\" valign=\"top\">NaN</th>\n",
       "      <th>16_events_all_L2_optimize_by_session</th>\n",
       "      <td>0.017267</td>\n",
       "    </tr>\n",
       "    <tr>\n",
       "      <th>16_events_disengaged_L2_optimize_by_session</th>\n",
       "      <td>0.017249</td>\n",
       "    </tr>\n",
       "    <tr>\n",
       "      <th>16_events_engaged_L2_optimize_by_session</th>\n",
       "      <td>NaN</td>\n",
       "    </tr>\n",
       "  </tbody>\n",
       "</table>\n",
       "</div>"
      ],
      "text/plain": [
       "                                                                                                                               Full__avg_cv_var_train\n",
       "ophys_experiment_id behavior_session_id session_type             fraction_engaged glm_version                                                        \n",
       "833631914           832981154           OPHYS_6_images_B         0.000000         16_events_all_L2_optimize_by_session                       0.016006\n",
       "                                                                                  16_events_disengaged_L2_optimize_by_session                0.016403\n",
       "                                                                                  16_events_engaged_L2_optimize_by_session                        NaN\n",
       "836258957           835820832           OPHYS_3_images_A         0.022056         16_events_all_L2_optimize_by_session                       0.012166\n",
       "                                                                                  16_events_disengaged_L2_optimize_by_session                0.012079\n",
       "                                                                                  16_events_engaged_L2_optimize_by_session                        NaN\n",
       "993369861           993267224           OPHYS_3_images_A         0.441226         16_events_all_L2_optimize_by_session                       0.052366\n",
       "                                                                                  16_events_disengaged_L2_optimize_by_session                0.057196\n",
       "                                                                                  16_events_engaged_L2_optimize_by_session                   0.055538\n",
       "957759564           957032492           OPHYS_4_images_B         0.586617         16_events_all_L2_optimize_by_session                       0.047866\n",
       "                                                                                  16_events_disengaged_L2_optimize_by_session                0.066072\n",
       "                                                                                  16_events_engaged_L2_optimize_by_session                   0.054122\n",
       "986402309           985792625           OPHYS_3_images_B         0.971708         16_events_all_L2_optimize_by_session                       0.124702\n",
       "                                                                                  16_events_disengaged_L2_optimize_by_session                     NaN\n",
       "                                                                                  16_events_engaged_L2_optimize_by_session                   0.131040\n",
       "877057344           876574139           OPHYS_4_images_B         0.983757         16_events_all_L2_optimize_by_session                       0.030948\n",
       "                                                                                  16_events_disengaged_L2_optimize_by_session                     NaN\n",
       "                                                                                  16_events_engaged_L2_optimize_by_session                   0.029842\n",
       "837296345           837108110           OPHYS_2_images_A_passive NaN              16_events_all_L2_optimize_by_session                       0.052363\n",
       "                                                                                  16_events_disengaged_L2_optimize_by_session                0.052481\n",
       "                                                                                  16_events_engaged_L2_optimize_by_session                        NaN\n",
       "853362773           853266283           OPHYS_5_images_B_passive NaN              16_events_all_L2_optimize_by_session                       0.046634\n",
       "                                                                                  16_events_disengaged_L2_optimize_by_session                0.046160\n",
       "                                                                                  16_events_engaged_L2_optimize_by_session                        NaN\n",
       "949723715           949348713           OPHYS_5_images_B_passive NaN              16_events_all_L2_optimize_by_session                       0.053504\n",
       "                                                                                  16_events_disengaged_L2_optimize_by_session                0.053529\n",
       "                                                                                  16_events_engaged_L2_optimize_by_session                        NaN\n",
       "1038848242          1038793248          OPHYS_2_images_B_passive NaN              16_events_all_L2_optimize_by_session                       0.017267\n",
       "                                                                                  16_events_disengaged_L2_optimize_by_session                0.017249\n",
       "                                                                                  16_events_engaged_L2_optimize_by_session                        NaN"
      ]
     },
     "execution_count": 15,
     "metadata": {},
     "output_type": "execute_result"
    }
   ],
   "source": [
    "indices = [\n",
    "    'ophys_experiment_id',\n",
    "    'behavior_session_id',\n",
    "    'session_type',\n",
    "    'fraction_engaged',\n",
    "    'glm_version',\n",
    "]\n",
    "\n",
    "results.groupby(['ophys_experiment_id','glm_version'])[['Full__avg_cv_var_train']].mean().reset_index().merge(\n",
    "    results[['ophys_experiment_id','behavior_session_id','session_type','glm_version']],\n",
    "    left_on = ['ophys_experiment_id', 'glm_version'],\n",
    "    right_on = ['ophys_experiment_id', 'glm_version'],\n",
    "    how='left'\n",
    ").merge(\n",
    "    engagement_df,\n",
    "    left_on = 'behavior_session_id',\n",
    "    right_on = 'behavior_session_id',\n",
    ").drop_duplicates(subset = ['ophys_experiment_id', 'glm_version']).sort_values(by=['fraction_engaged','ophys_experiment_id','glm_version']).set_index(indices)"
   ]
  },
  {
   "cell_type": "code",
   "execution_count": 8,
   "metadata": {},
   "outputs": [
    {
     "data": {
      "text/plain": [
       "'ophys_session_id'"
      ]
     },
     "execution_count": 8,
     "metadata": {},
     "output_type": "execute_result"
    }
   ],
   "source": [
    "from visual_behavior.data_access.from_lims import get_id_type\n",
    "get_id_type(914639324)"
   ]
  },
  {
   "cell_type": "code",
   "execution_count": 9,
   "metadata": {},
   "outputs": [],
   "source": [
    "def search_file(filepath,search_phrase):\n",
    "    '''\n",
    "    search a file for a search_phrase\n",
    "    return True if search_phrase is found in file, False otherwise\n",
    "    '''\n",
    "    searchfile = open(filepath, \"r\")\n",
    "    for line in searchfile:\n",
    "        if search_phrase in line:\n",
    "            searchfile.close()\n",
    "            return True\n",
    "    searchfile.close()\n",
    "    return False"
   ]
  },
  {
   "cell_type": "code",
   "execution_count": 10,
   "metadata": {},
   "outputs": [],
   "source": [
    "def find_filename_containing_string(search_phrase, search_path, filename_extension, verbose=False):\n",
    "    '''\n",
    "    search all files in a directory for a given string\n",
    "    returns the filename if found, None otherwise\n",
    "    '''\n",
    "    files_to_search = [f for f in os.listdir(search_path) if f.endswith(filename_extension)]\n",
    "    for ii,filename in enumerate(np.sort(files_to_search)[::-1]):\n",
    "        if verbose:\n",
    "            print('searching file #{}, name: {}'.format(ii, filename), end='\\r')\n",
    "        if search_file(os.path.join(search_path, filename), search_phrase):\n",
    "            return filename"
   ]
  },
  {
   "cell_type": "code",
   "execution_count": 11,
   "metadata": {},
   "outputs": [],
   "source": [
    "def search_for_oeid(oeid, glm_version,search_path='/allen/programs/braintv/workgroups/nc-ophys/visual_behavior/cluster_jobs/ophys_glm', verbose=False):\n",
    "    '''\n",
    "    search all .out files in a directory for a given oeid/glm_version STDOUT file\n",
    "    '''\n",
    "    if verbose:\n",
    "        print('searching for oeid = {}, glm_version = {}'.format(oeid, glm_version))\n",
    "    search_phrase = 'oeid_{}_fit_glm_v_{}'.format(oeid, glm_version)\n",
    "    filename = find_filename_containing_string(search_phrase, search_path, filename_extension='.out', verbose=verbose)\n",
    "    return os.path.join(search_path, filename)"
   ]
  },
  {
   "cell_type": "code",
   "execution_count": 12,
   "metadata": {},
   "outputs": [
    {
     "data": {
      "text/plain": [
       "'/allen/programs/braintv/workgroups/nc-ophys/visual_behavior/ophys_glm/cluster_records_v12/29588847.qmaster2.corp.alleninstitute.org.out'"
      ]
     },
     "execution_count": 12,
     "metadata": {},
     "output_type": "execute_result"
    }
   ],
   "source": [
    "search_for_oeid(\n",
    "    oeid=833631914, \n",
    "    glm_version='16_events_disengaged_L2_optimize_by_session',\n",
    "    search_path='/allen/programs/braintv/workgroups/nc-ophys/visual_behavior/ophys_glm/cluster_records_v12'\n",
    ")"
   ]
  },
  {
   "cell_type": "code",
   "execution_count": null,
   "metadata": {},
   "outputs": [],
   "source": []
  }
 ],
 "metadata": {
  "kernelspec": {
   "display_name": "vba",
   "language": "python",
   "name": "vba"
  },
  "language_info": {
   "codemirror_mode": {
    "name": "ipython",
    "version": 3
   },
   "file_extension": ".py",
   "mimetype": "text/x-python",
   "name": "python",
   "nbconvert_exporter": "python",
   "pygments_lexer": "ipython3",
   "version": "3.8.8"
  }
 },
 "nbformat": 4,
 "nbformat_minor": 4
}
