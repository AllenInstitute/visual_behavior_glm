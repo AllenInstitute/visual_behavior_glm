{
 "cells": [
  {
   "cell_type": "code",
   "execution_count": 1,
   "metadata": {},
   "outputs": [],
   "source": [
    "from visual_behavior_glm.src.glm import GLM\n",
    "import visual_behavior_glm.src.GLM_fit_tools as gft\n",
    "import visual_behavior_glm.src.GLM_analysis_tools as gat\n",
    "import visual_behavior_glm.src.GLM_visualization_tools as gvt\n",
    "\n",
    "import visual_behavior.utilities as vbu\n",
    "import visual_behavior.plotting as vbp\n",
    "import visual_behavior.data_access.loading as loading\n",
    "import visual_behavior.visualization.utils as vis_utils\n",
    "import visual_behavior.database as db\n",
    "\n",
    "import seaborn as sns\n",
    "import matplotlib.pyplot as plt"
   ]
  },
  {
   "cell_type": "code",
   "execution_count": 2,
   "metadata": {},
   "outputs": [
    {
     "data": {
      "text/html": [
       "<style>.container { width:100% !important; }</style>"
      ],
      "text/plain": [
       "<IPython.core.display.HTML object>"
      ]
     },
     "metadata": {},
     "output_type": "display_data"
    }
   ],
   "source": [
    "\n",
    "%matplotlib notebook\n",
    "%widescreen"
   ]
  },
  {
   "cell_type": "code",
   "execution_count": 4,
   "metadata": {},
   "outputs": [
    {
     "name": "stdout",
     "output_type": "stream",
     "text": [
      "Fitting ophys_experiment_id: 808621958\n",
      "Loading data\n"
     ]
    },
    {
     "name": "stderr",
     "output_type": "stream",
     "text": [
      "/home/dougo/Code/AllenSDK/allensdk/brain_observatory/sync_dataset.py:109: UserWarning: The loaded sync file contains the following deprecated line label keys: {'cam2_exposure', 'cam1_exposure'}. Consider updating the sync file line labels.\n",
      "  self._check_line_labels()\n",
      "/home/dougo/Code/AllenSDK/allensdk/brain_observatory/sync_dataset.py:109: UserWarning: The loaded sync file contains the following deprecated line label keys: {'cam2_exposure', 'cam1_exposure'}. Consider updating the sync file line labels.\n",
      "  self._check_line_labels()\n",
      "WARNING:root:Could not find valid lines for the following data sources\n",
      "WARNING:root:acquiring (valid line label(s) = ['2p_acquiring']\n"
     ]
    },
    {
     "name": "stdout",
     "output_type": "stream",
     "text": [
      "Processing df/f data\n",
      "Build Design Matrix\n",
      "    Adding kernel: intercept\n",
      "    Adding kernel: time\n",
      "    Adding kernel: pre_licks\n",
      "    Adding kernel: post_licks\n",
      "    Adding kernel: pre_lick_bouts\n",
      "    Adding kernel: post_lick_bouts\n",
      "    Adding kernel: rewards\n",
      "    Adding kernel: change\n",
      "    Adding kernel: hits\n",
      "    Adding kernel: misses\n",
      "    Adding kernel: false_alarms\n",
      "    Adding kernel: correct_rejects\n",
      "    Adding kernel: omissions\n",
      "    Adding kernel: running\n",
      "    Adding kernel: pupil\n"
     ]
    },
    {
     "name": "stderr",
     "output_type": "stream",
     "text": [
      "/home/dougo/Code/AllenSDK/allensdk/brain_observatory/sync_dataset.py:109: UserWarning: The loaded sync file contains the following deprecated line label keys: {'cam2_exposure', 'cam1_exposure'}. Consider updating the sync file line labels.\n",
      "  self._check_line_labels()\n"
     ]
    },
    {
     "name": "stdout",
     "output_type": "stream",
     "text": [
      "    Adding kernel: image0\n",
      "    Adding kernel: image1\n",
      "    Adding kernel: image2\n",
      "    Adding kernel: image3\n",
      "    Adding kernel: image4\n",
      "    Adding kernel: image5\n",
      "    Adding kernel: image6\n",
      "    Adding kernel: image7\n",
      "    Adding kernel: model_bias\n",
      "    Adding kernel: model_task0\n",
      "    Adding kernel: model_omissions1\n",
      "    Adding kernel: model_timing1D\n",
      "Setting up CV\n",
      "Evaluating Regularization values\n"
     ]
    },
    {
     "name": "stderr",
     "output_type": "stream",
     "text": [
      "    Fitting L2, 0.0: 100%|██████████| 5/5 [00:10<00:00,  2.09s/it]\n",
      "    Fitting L2, 0.1: 100%|██████████| 5/5 [00:10<00:00,  2.17s/it]\n",
      "    Fitting L2, 0.1565606557943096: 100%|██████████| 5/5 [00:10<00:00,  2.18s/it]\n",
      "    Fitting L2, 0.245112389427443: 100%|██████████| 5/5 [00:10<00:00,  2.17s/it]\n",
      "    Fitting L2, 0.38374956432070695: 100%|██████████| 5/5 [00:10<00:00,  2.17s/it]\n",
      "    Fitting L2, 0.6008008345083048: 100%|██████████| 5/5 [00:10<00:00,  2.18s/it]\n",
      "    Fitting L2, 0.9406177265238869: 100%|██████████| 5/5 [00:11<00:00,  2.21s/it]\n",
      "    Fitting L2, 1.472637281163324: 100%|██████████| 5/5 [00:10<00:00,  2.18s/it]\n",
      "    Fitting L2, 2.3055705848607913: 100%|██████████| 5/5 [00:10<00:00,  2.18s/it]\n",
      "    Fitting L2, 3.6096164274587546: 100%|██████████| 5/5 [00:10<00:00,  2.17s/it]\n",
      "    Fitting L2, 5.651239150488556: 100%|██████████| 5/5 [00:10<00:00,  2.18s/it]\n",
      "    Fitting L2, 8.847617074509655: 100%|██████████| 5/5 [00:10<00:00,  2.17s/it]\n",
      "    Fitting L2, 13.85188731402163: 100%|██████████| 5/5 [00:10<00:00,  2.17s/it]\n",
      "    Fitting L2, 21.686605618721064: 100%|██████████| 5/5 [00:11<00:00,  2.22s/it]\n",
      "    Fitting L2, 33.9526919761953: 100%|██████████| 5/5 [00:10<00:00,  2.19s/it]\n",
      "    Fitting L2, 53.1565572177533: 100%|██████████| 5/5 [00:10<00:00,  2.18s/it]\n",
      "    Fitting L2, 83.222254577792: 100%|██████████| 5/5 [00:10<00:00,  2.18s/it]\n",
      "    Fitting L2, 130.293307533801: 100%|██████████| 5/5 [00:10<00:00,  2.17s/it]\n",
      "    Fitting L2, 203.9880567310155: 100%|██████████| 5/5 [00:10<00:00,  2.18s/it]\n",
      "    Fitting L2, 319.36503936014617: 100%|██████████| 5/5 [00:11<00:00,  2.28s/it]\n",
      "    Fitting L2, 499.99999999999994: 100%|██████████| 5/5 [00:11<00:00,  2.21s/it]\n"
     ]
    },
    {
     "name": "stdout",
     "output_type": "stream",
     "text": [
      "Setting up model selection dropout\n",
      "Iterating over model selection\n"
     ]
    },
    {
     "name": "stderr",
     "output_type": "stream",
     "text": [
      "    Fitting model, Full: 100%|██████████| 5/5 [00:10<00:00,  2.19s/it]\n",
      "    Fitting model, intercept: 100%|██████████| 5/5 [00:10<00:00,  2.18s/it]\n",
      "    Fitting model, time: 100%|██████████| 5/5 [00:10<00:00,  2.20s/it]\n",
      "    Fitting model, pre_licks: 100%|██████████| 5/5 [00:10<00:00,  2.01s/it]\n",
      "    Fitting model, post_licks: 100%|██████████| 5/5 [00:10<00:00,  2.12s/it]\n",
      "    Fitting model, pre_lick_bouts: 100%|██████████| 5/5 [00:09<00:00,  1.98s/it]\n",
      "    Fitting model, post_lick_bouts: 100%|██████████| 5/5 [00:10<00:00,  2.10s/it]\n",
      "    Fitting model, rewards: 100%|██████████| 5/5 [00:09<00:00,  1.98s/it]\n",
      "    Fitting model, change: 100%|██████████| 5/5 [00:10<00:00,  2.01s/it]\n",
      "    Fitting model, hits: 100%|██████████| 5/5 [00:10<00:00,  2.12s/it]\n",
      "    Fitting model, misses: 100%|██████████| 5/5 [00:10<00:00,  2.10s/it]\n",
      "    Fitting model, false_alarms: 100%|██████████| 5/5 [00:10<00:00,  2.09s/it]\n",
      "    Fitting model, correct_rejects: 100%|██████████| 5/5 [00:10<00:00,  2.10s/it]\n",
      "    Fitting model, omissions: 100%|██████████| 5/5 [00:09<00:00,  1.83s/it]\n",
      "    Fitting model, running: 100%|██████████| 5/5 [00:10<00:00,  2.01s/it]\n",
      "    Fitting model, pupil: 100%|██████████| 5/5 [00:10<00:00,  2.05s/it]\n",
      "    Fitting model, image0: 100%|██████████| 5/5 [00:10<00:00,  2.10s/it]\n",
      "    Fitting model, image1: 100%|██████████| 5/5 [00:10<00:00,  2.09s/it]\n",
      "    Fitting model, image2: 100%|██████████| 5/5 [00:10<00:00,  2.08s/it]\n",
      "    Fitting model, image3: 100%|██████████| 5/5 [00:10<00:00,  2.09s/it]\n",
      "    Fitting model, image4: 100%|██████████| 5/5 [00:10<00:00,  2.09s/it]\n",
      "    Fitting model, image5: 100%|██████████| 5/5 [00:10<00:00,  2.09s/it]\n",
      "    Fitting model, image6: 100%|██████████| 5/5 [00:10<00:00,  2.10s/it]\n",
      "    Fitting model, image7: 100%|██████████| 5/5 [00:10<00:00,  2.09s/it]\n",
      "    Fitting model, model_bias: 100%|██████████| 5/5 [00:09<00:00,  1.93s/it]\n",
      "    Fitting model, model_task0: 100%|██████████| 5/5 [00:09<00:00,  1.95s/it]\n",
      "    Fitting model, model_omissions1: 100%|██████████| 5/5 [00:09<00:00,  1.92s/it]\n",
      "    Fitting model, model_timing1D: 100%|██████████| 5/5 [00:09<00:00,  1.89s/it]\n",
      "    Fitting model, all-images: 100%|██████████| 5/5 [00:09<00:00,  1.84s/it]\n",
      "    Fitting model, visual: 100%|██████████| 5/5 [00:09<00:00,  1.86s/it]\n",
      "    Fitting model, beh_model: 100%|██████████| 5/5 [00:05<00:00,  1.14s/it]\n"
     ]
    },
    {
     "name": "stdout",
     "output_type": "stream",
     "text": [
      "Saving results\n",
      "Saving Design Matrix\n",
      "Saving Events Table\n",
      "Finished\n"
     ]
    }
   ],
   "source": [
    "# oeid = 833629926 #slc example\n",
    "oeid = 808621958 #vip example\n",
    "version = 3\n",
    "glm = GLM(oeid, version)"
   ]
  },
  {
   "cell_type": "code",
   "execution_count": null,
   "metadata": {
    "scrolled": false
   },
   "outputs": [],
   "source": [
    "glm.results.sort_values(by='Full_avg_cv_var_test', ascending=False).head()"
   ]
  },
  {
   "cell_type": "code",
   "execution_count": null,
   "metadata": {},
   "outputs": [],
   "source": [
    "len(glm.results)"
   ]
  },
  {
   "cell_type": "code",
   "execution_count": null,
   "metadata": {},
   "outputs": [],
   "source": [
    "cell_specimen_id = glm.results.sort_values(by='Full_avg_cv_var_test', ascending=False).index[0]\n",
    "glm.plot_dropout_summary(cell_specimen_id)"
   ]
  },
  {
   "cell_type": "code",
   "execution_count": null,
   "metadata": {
    "scrolled": false
   },
   "outputs": [],
   "source": [
    "movie = gvt.GLM_Movie(\n",
    "    glm,\n",
    "    cell_specimen_id = cell_specimen_id, \n",
    "    start_frame = 39400,\n",
    "    end_frame = 39500\n",
    ")\n",
    "# \"\"\n",
    "movie.make_cell_movie_frame(movie.ax, movie.glm, 20000, movie.cell_specimen_id, t_before=10, t_after=10)"
   ]
  },
  {
   "cell_type": "code",
   "execution_count": null,
   "metadata": {
    "scrolled": false
   },
   "outputs": [],
   "source": [
    "glm.plot_filters(cell_specimen_id)"
   ]
  },
  {
   "cell_type": "code",
   "execution_count": null,
   "metadata": {},
   "outputs": [],
   "source": [
    "results = gft.L2_report(glm.fit)"
   ]
  },
  {
   "cell_type": "code",
   "execution_count": null,
   "metadata": {},
   "outputs": [],
   "source": [
    "# fit['regularization'] = np.mean([fit['L2_grid'][x] for x in np.argmax(test_cv,1)])      \n",
    "#         fit['L2_test_cv'] = test_cv\n",
    "#         fit['L2_train_cv'] = train_cv\n",
    "glm.fit['regularization']"
   ]
  },
  {
   "cell_type": "code",
   "execution_count": null,
   "metadata": {},
   "outputs": [],
   "source": [
    "test_cv = glm.fit['L2_test_cv']"
   ]
  },
  {
   "cell_type": "code",
   "execution_count": null,
   "metadata": {},
   "outputs": [],
   "source": [
    "len(np.argmax(test_cv,1))"
   ]
  },
  {
   "cell_type": "code",
   "execution_count": null,
   "metadata": {},
   "outputs": [],
   "source": [
    "fit = glm.fit\n",
    "test_cv = glm.fit['L2_test_cv']\n",
    "lambdas = [fit['L2_grid'][x] for x in np.argmax(test_cv,1)]\n",
    "fig,ax=plt.subplots()\n",
    "ax.hist(lambdas,bins=np.arange(0,525,25))"
   ]
  },
  {
   "cell_type": "code",
   "execution_count": null,
   "metadata": {},
   "outputs": [],
   "source": [
    "lam = 2\n",
    "(lam * np.eye(glm.X.shape[-1])).shape"
   ]
  },
  {
   "cell_type": "code",
   "execution_count": null,
   "metadata": {},
   "outputs": [],
   "source": [
    "licks = glm.session.dataset.licks\n",
    "licks['time_to_last_lick'] = licks['timestamps'] - licks['timestamps'].shift()\n",
    "licks['first_in_bout'] = licks['time_to_last_lick'] > 2\n",
    "licks['first_in_bout'].value_counts()"
   ]
  },
  {
   "cell_type": "code",
   "execution_count": null,
   "metadata": {},
   "outputs": [],
   "source": [
    "w_kernel = glm.W.loc[dict(weights=kernel_weight_names, cell_specimen_id=cell_specimen_id)]\n",
    "w_kernel"
   ]
  },
  {
   "cell_type": "code",
   "execution_count": null,
   "metadata": {},
   "outputs": [],
   "source": [
    "fig,ax=plt.subplots()\n",
    "ax.plot(w_kernel)"
   ]
  },
  {
   "cell_type": "code",
   "execution_count": null,
   "metadata": {},
   "outputs": [],
   "source": [
    "session = glm.session\n",
    "session.dataset.trials.query('correct_reject')"
   ]
  },
  {
   "cell_type": "code",
   "execution_count": null,
   "metadata": {},
   "outputs": [],
   "source": [
    "event = 'hit'\n",
    "if event in ['hit','miss']:\n",
    "    print('yes')"
   ]
  },
  {
   "cell_type": "code",
   "execution_count": null,
   "metadata": {},
   "outputs": [],
   "source": []
  }
 ],
 "metadata": {
  "kernelspec": {
   "display_name": "visual_behavior",
   "language": "python",
   "name": "visual_behavior"
  },
  "language_info": {
   "codemirror_mode": {
    "name": "ipython",
    "version": 3
   },
   "file_extension": ".py",
   "mimetype": "text/x-python",
   "name": "python",
   "nbconvert_exporter": "python",
   "pygments_lexer": "ipython3",
   "version": "3.8.3"
  }
 },
 "nbformat": 4,
 "nbformat_minor": 4
}
